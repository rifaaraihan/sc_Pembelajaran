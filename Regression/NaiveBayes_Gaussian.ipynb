{
  "nbformat": 4,
  "nbformat_minor": 0,
  "metadata": {
    "colab": {
      "name": "NaiveBayes Gaussian.ipynb",
      "provenance": []
    },
    "kernelspec": {
      "name": "python3",
      "display_name": "Python 3"
    },
    "language_info": {
      "name": "python"
    }
  },
  "cells": [
    {
      "cell_type": "code",
      "execution_count": null,
      "metadata": {
        "id": "6VoNt6bD7Ftg"
      },
      "outputs": [],
      "source": [
        "import itertools\n",
        "import numpy as np\n",
        "import matplotlib.pyplot as plt\n",
        "from matplotlib.ticker import NullFormatter\n",
        "import matplotlib.ticker as ticker\n",
        "import pandas as pd\n",
        "from sklearn import preprocessing\n",
        "from sklearn.datasets import load_iris\n",
        "%matplotlib inline"
      ]
    },
    {
      "cell_type": "code",
      "source": [
        "outlook = ['Sunny','Sunny','Overcast','Rainy','Rainy','Rainy','Overcast','Sunny','Sunny','Rainy','Sunny','Overcast','Overcast','Rainy']\n",
        "temp = ['Hot','Hot','Hot','Mild','Cool','Cool','Cool','Mild','Cool','Mild','Mild','Mild','Hot','Mild']\n",
        "humidity = ['High','High','High','High','Normal','Normal','Normal','High','Normal','Normal','Normal','High','Normal','High']\n",
        "windy = ['False','True','False','False','False','True','True','False','False','False','True','True','False','True']\n",
        "\n",
        "play = ['No','No','Yes','Yes','Yes','No','Yes','No','Yes','Yes','Yes','Yes','Yes','No']"
      ],
      "metadata": {
        "id": "D1qr4F5W7TFi"
      },
      "execution_count": null,
      "outputs": []
    },
    {
      "cell_type": "code",
      "source": [
        "from sklearn import preprocessing\n",
        "\n",
        "le = preprocessing.LabelEncoder()\n",
        "\n",
        "outlook_encoded=le.fit_transform(outlook)\n",
        "temp_encoded=le.fit_transform(temp)\n",
        "humidity_encoded=le.fit_transform(humidity)\n",
        "windy_encoded=le.fit_transform(windy)\n",
        "\n",
        "label=le.fit_transform(play)"
      ],
      "metadata": {
        "id": "UHXLtBVr7Te2"
      },
      "execution_count": null,
      "outputs": []
    },
    {
      "cell_type": "code",
      "source": [
        "features = np.column_stack([outlook_encoded,temp_encoded,humidity_encoded,windy_encoded])"
      ],
      "metadata": {
        "id": "HL3hBy_n-acI"
      },
      "execution_count": null,
      "outputs": []
    },
    {
      "cell_type": "code",
      "source": [
        "from sklearn.naive_bayes import GaussianNB\n",
        "\n",
        "model = GaussianNB()\n",
        "\n",
        "model.fit(features,label)\n",
        "\n",
        "predict = model.predict([[0,2,0,1]])\n",
        "print(\"Predicted Value\",predict)"
      ],
      "metadata": {
        "colab": {
          "base_uri": "https://localhost:8080/"
        },
        "id": "ZPGjfIZ4-rLO",
        "outputId": "38a2ec2f-710e-4259-bfda-d80d0aa94a1b"
      },
      "execution_count": null,
      "outputs": [
        {
          "output_type": "stream",
          "name": "stdout",
          "text": [
            "Predicted Value [1]\n"
          ]
        }
      ]
    }
  ]
}